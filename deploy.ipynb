{
 "cells": [
  {
   "cell_type": "markdown",
   "metadata": {
    "tags": []
   },
   "source": [
    "# Deploy the model to a sagemaker endpoint"
   ]
  },
  {
   "cell_type": "code",
   "execution_count": 2,
   "metadata": {},
   "outputs": [],
   "source": [
    "import os\n",
    "import boto3\n",
    "import sagemaker\n",
    "from sagemaker.pytorch.model import PyTorchModel, PyTorchPredictor"
   ]
  },
  {
   "cell_type": "code",
   "execution_count": null,
   "metadata": {},
   "outputs": [],
   "source": [
    "# modify these variables according to your configuration\n",
    "bucket = 's3-bucket-name'\n",
    "model_artifacts = 'model_artifacts.tar.gz'\n",
    "model_s3_uri = os.path.join('s3://', bucket, model_artifacts)\n",
    "endpoint_name = 'resnet18-sagemaker-endpoint'\n",
    "role = 'AmazonSageMaker-ExecutionRole-...'"
   ]
  },
  {
   "cell_type": "code",
   "execution_count": null,
   "metadata": {},
   "outputs": [],
   "source": [
    "# archive and zip codes folder and upload it to s3\n",
    "!tar -cvzf {model_artifacts} inference_code/\n",
    "!aws s3 cp {model_artifacts} {model_s3_uri}"
   ]
  },
  {
   "cell_type": "code",
   "execution_count": null,
   "metadata": {},
   "outputs": [],
   "source": [
    "sess = sagemaker.Session()\n",
    "\n",
    "# instance types: https://aws.amazon.com/sagemaker/pricing/?p=pm&c=sm&z=4\n",
    "instance_type = 'ml.t2.medium'\n",
    "\n",
    "# Deploy to an endpoint with python 3.8 and pytorch 1.10.2\n",
    "model = PyTorchModel(\n",
    "    model_data=model_s3_uri,\n",
    "    source_dir='inference_code',\n",
    "    entry_point='inference.py',   \n",
    "    role=role,\n",
    "    sagemaker_session=sess,\n",
    "    framework_version='1.10.2',\n",
    "    py_version='py38'\n",
    ")\n",
    "\n",
    "client = boto3.client('sagemaker')\n",
    "# Delete model in order to force the script to create it again\n",
    "try:\n",
    "    client.delete_model(ModelName=endpoint_name)    \n",
    "except Exception as e:\n",
    "    # model does not exist\n",
    "    pass   \n",
    "\n",
    "# Delete endpoint configuration in order to force the script to create it again\n",
    "try:\n",
    "    client.delete_endpoint_config(EndpointConfigName=endpoint_name)\n",
    "except Exception as e:\n",
    "    # endpoint configuration does not exist\n",
    "    pass \n",
    "\n",
    "try:\n",
    "    # create endpoint\n",
    "    predictor = model.deploy(\n",
    "        instance_type=instance_type,\n",
    "        initial_instance_count=1,\n",
    "        endpoint_name=endpoint_name\n",
    "    )\n",
    "except Exception as e:\n",
    "    # endpoint already exists, so update it\n",
    "    predictor = PyTorchPredictor(endpoint_name=endpoint_name)\n",
    "    predictor.update_endpoint(\n",
    "        model_name=model.name,\n",
    "        instance_type=instance_type,\n",
    "        initial_instance_count=1,\n",
    "    )"
   ]
  },
  {
   "cell_type": "markdown",
   "metadata": {},
   "source": [
    "# Sagemaker inference"
   ]
  },
  {
   "cell_type": "code",
   "execution_count": 4,
   "metadata": {},
   "outputs": [],
   "source": [
    "from PIL import Image\n",
    "\n",
    "image_path = 'data/dog.jpg'\n",
    "image = Image.open(image_path)"
   ]
  },
  {
   "cell_type": "code",
   "execution_count": 6,
   "metadata": {},
   "outputs": [],
   "source": [
    "from sagemaker.pytorch.model import PyTorchPredictor\n",
    "\n",
    "predictor = PyTorchPredictor(endpoint_name=endpoint_name)\n",
    "probabilities = predictor.predict(image)"
   ]
  },
  {
   "cell_type": "code",
   "execution_count": null,
   "metadata": {},
   "outputs": [],
   "source": [
    "# Download imagenet labels\n",
    "!wget https://raw.githubusercontent.com/pytorch/hub/master/imagenet_classes.txt\n",
    "!mv imagenet_classes.txt data/imagenet_classes.txt"
   ]
  },
  {
   "cell_type": "code",
   "execution_count": 8,
   "metadata": {},
   "outputs": [
    {
     "name": "stdout",
     "output_type": "stream",
     "text": [
      "Predicted class: Samoyed\n"
     ]
    }
   ],
   "source": [
    "# Read the labels\n",
    "with open(\"data/imagenet_classes.txt\", \"r\") as f:\n",
    "    labels = [s.strip() for s in f.readlines()]\n",
    "\n",
    "# Predicted class\n",
    "predicted_index = probabilities.argmax()\n",
    "predicted_label = labels[predicted_index] \n",
    "print('Predicted class:', predicted_label)"
   ]
  },
  {
   "cell_type": "code",
   "execution_count": null,
   "metadata": {},
   "outputs": [],
   "source": []
  }
 ],
 "metadata": {
  "kernelspec": {
   "display_name": "Python [conda env:py3.8.10-torch1.10.2-cpu]",
   "language": "python",
   "name": "conda-env-py3.8.10-torch1.10.2-cpu-py"
  },
  "language_info": {
   "codemirror_mode": {
    "name": "ipython",
    "version": 3
   },
   "file_extension": ".py",
   "mimetype": "text/x-python",
   "name": "python",
   "nbconvert_exporter": "python",
   "pygments_lexer": "ipython3",
   "version": "3.8.10"
  }
 },
 "nbformat": 4,
 "nbformat_minor": 4
}
